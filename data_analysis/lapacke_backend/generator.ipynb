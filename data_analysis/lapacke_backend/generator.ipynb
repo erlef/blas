{
 "cells": [
  {
   "attachments": {},
   "cell_type": "markdown",
   "metadata": {},
   "source": [
    "### Load database"
   ]
  },
  {
   "cell_type": "code",
   "execution_count": 90,
   "metadata": {},
   "outputs": [],
   "source": [
    "### DB loader\n",
    "import pandas as pd\n",
    "\n",
    "db = pd.concat([\n",
    "    pd.read_csv(\"../cblas_db/blas.csv\", index_col=0),\n",
    "    pd.read_csv(\"../lapacke_db/lapacke.csv\", index_col=0)\n",
    "])"
   ]
  },
  {
   "attachments": {},
   "cell_type": "markdown",
   "metadata": {},
   "source": [
    "### Function unwrapper"
   ]
  },
  {
   "cell_type": "code",
   "execution_count": 91,
   "metadata": {},
   "outputs": [],
   "source": [
    "data_table_c = {\n",
    "        # BLAS types\n",
    "        'const int':    'int',\n",
    "        'const float':  'cste_c_binary',\n",
    "        'const double': 'cste_c_binary',\n",
    "        'const float*': 'cste_c_binary',\n",
    "        'const double*':'cste_c_binary',\n",
    "        'const void*':  'cste_c_binary',\n",
    "        'void*':        'c_binary',\n",
    "        'float*':       'c_binary',\n",
    "        'double*':      'c_binary',\n",
    "        \n",
    "        'const enum CBLAS_ORDER':       'int',\n",
    "        'const enum CBLAS_TRANSPOSE':   'int',\n",
    "        'const enum CBLAS_UPLO':        'int',\n",
    "        'const enum CBLAS_DIAG':        'int',\n",
    "        'const enum CBLAS_SIDE':        'int',\n",
    "\n",
    "        # LAPACKE types\n",
    "        'int':          'int',                  # Only used for matrix_layout\n",
    "        'char':         'char',\n",
    "        'lapack_int':   'int',\n",
    "        'lapack_logical': 'int',\n",
    "        'float':        'cste_c_binary',\n",
    "        'double':       'cste_c_binary',\n",
    "        #'lapack_complex_float':  'c_binary',\n",
    "        #'lapack_complex_double': 'c_binary',\n",
    "\n",
    "        'lapack_int*':  'c_binary',\n",
    "        'lapack_logical*':  'c_binary',\n",
    "        'lapack_complex_float*': 'c_binary',\n",
    "        'lapack_complex_double*': 'c_binary',\n",
    "\n",
    "        'const lapack_int*':  'cste_c_binary',\n",
    "        'const lapack_logical*':       'cste_c_binary',\n",
    "        'const lapack_complex_float*': 'cste_c_binary',\n",
    "        'const lapack_complex_double*': 'cste_c_binary',\n",
    "\n",
    "}\n",
    "def arg_type_c(s):\n",
    "    return data_table_c[s]\n",
    "\n",
    "def arg_type_decoder_type(s):\n",
    "    data_table = {\n",
    "        # BLAS types\n",
    "        'const int':    'e_int',\n",
    "        'const float':  'e_cste_ptr',\n",
    "        'const double': 'e_cste_ptr',\n",
    "        'const float*': 'e_cste_ptr',\n",
    "        'const double*':'e_cste_ptr',\n",
    "        'const void*':  'e_cste_ptr',\n",
    "        'void*':        'e_ptr',\n",
    "        'float*':       'e_ptr',\n",
    "        'double*':      'e_ptr',\n",
    "        \n",
    "        'const enum CBLAS_ORDER':       'e_layout',\n",
    "        'const enum CBLAS_TRANSPOSE':   'e_transpose',\n",
    "        'const enum CBLAS_UPLO':        'e_uplo',\n",
    "        'const enum CBLAS_DIAG':        'e_diag',\n",
    "        'const enum CBLAS_SIDE':        'e_side',\n",
    "\n",
    "        # LAPACKE types\n",
    "        'int':          'e_layout',                  # Only used for matrix_layout\n",
    "        'char':         'e_char',\n",
    "        'lapack_int':   'e_int',\n",
    "        'lapack_logical': 'e_int',\n",
    "        'float':        'e_cste_ptr',\n",
    "        'double':       'e_cste_ptr',\n",
    "        'lapack_complex_float':  'e_ptr',\n",
    "        'lapack_complex_double': 'e_ptr',\n",
    "\n",
    "        'lapack_int*':  'e_ptr',\n",
    "        'lapack_logical*':       'e_ptr',\n",
    "        'lapack_complex_float*': 'e_ptr',\n",
    "        'lapack_complex_double*': 'e_ptr',\n",
    "\n",
    "        'const lapack_int*':            'e_cste_ptr',\n",
    "        'const lapack_logical*':        'e_cste_ptr',\n",
    "        'const lapack_complex_float*':  'e_cste_ptr',\n",
    "        'const lapack_complex_double*': 'e_cste_ptr',\n",
    "    }\n",
    "    return data_table[s]\n",
    "\n",
    "\n",
    "def arg_unwrapper(initial_type, var_name):\n",
    "    data_table = {\n",
    "        # BLAS TYPES\n",
    "        'const int':    lambda x: x,\n",
    "        'const float':  lambda x: f'get_cste_float({x})',\n",
    "        'const double': lambda x: f'get_cste_double({x})',\n",
    "        'const float*': lambda x: f'get_cste_ptr({x})',\n",
    "        'const double*':lambda x: f'get_cste_ptr({x})',\n",
    "        'const void*':  lambda x: f'get_cste_ptr({x})',\n",
    "        'void*':        lambda x: f'get_ptr({x})',\n",
    "        'float*':       lambda x: f'get_ptr({x})',\n",
    "        'double*':      lambda x: f'get_ptr({x})',\n",
    "        \n",
    "        'const enum CBLAS_ORDER':       lambda x: x,\n",
    "        'const enum CBLAS_TRANSPOSE':   lambda x: x,\n",
    "        'const enum CBLAS_UPLO':        lambda x: x,\n",
    "        'const enum CBLAS_DIAG':        lambda x: x,\n",
    "        'const enum CBLAS_SIDE':        lambda x: x,\n",
    "\n",
    "        # LAPACKE types\n",
    "        'int':          lambda x: x,                  # Only used for matrix_layout\n",
    "        'char':         lambda x:x,\n",
    "        'lapack_int':   lambda x: x,\n",
    "        'lapack_logical': lambda x: x,\n",
    "        'float':        lambda x: f'get_cste_double({x})',\n",
    "        'double':       lambda x: f'get_cste_double({x})',\n",
    "        'lapack_complex_float':     lambda x: f'get_ptr({x})',\n",
    "        'lapack_complex_double':    lambda x: f'get_ptr({x})',\n",
    "\n",
    "        'lapack_int*':  lambda x: f'get_ptr({x})',\n",
    "        'lapack_logical*':  lambda x: f'get_ptr({x})',\n",
    "        'lapack_complex_float*':  lambda x: f'get_ptr({x})',\n",
    "        'lapack_complex_double*': lambda x: f'get_ptr({x})',\n",
    "        \n",
    "        'const lapack_int*':            lambda x: f'get_cste_ptr({x})',\n",
    "        'const lapack_logical*':        lambda x: f'get_cste_ptr({x})',\n",
    "        'const lapack_complex_float*':  lambda x: f'get_cste_ptr({x})',\n",
    "        'const lapack_complex_double*': lambda x: f'get_cste_ptr({x})',\n",
    "    }\n",
    "    return data_table[initial_type](var_name)\n",
    "    "
   ]
  },
  {
   "cell_type": "code",
   "execution_count": 92,
   "metadata": {},
   "outputs": [],
   "source": [
    "import re\n",
    "\n",
    "def declare_variables(variables):\n",
    "\n",
    "    declarations = pd.concat(\n",
    "        [\n",
    "            pd.DataFrame(variables['arg_type'].apply(arg_type_c)),\n",
    "            variables['arg_name']\n",
    "        ],\n",
    "        axis = 1\n",
    "    ).to_string(index=False, header=False, col_space=1, justify='left').replace('\\n', '; ')\n",
    "    declarations = re.sub(r\"\\s+\", \" \", declarations) + \";\"\n",
    "    return declarations.strip()\n",
    "\n",
    "\n",
    "def get_narg(variables):\n",
    "    return variables['arg_pos'].max() + 1\n",
    "\n",
    "\n",
    "def get_translate(variables):\n",
    "    return '{' + ', '.join([t for t in variables['arg_type'].apply(arg_type_decoder_type)]) + \", e_end}, \" + ', '.join(['&' + n for n in variables['arg_name']])\n",
    "\n",
    "def get_arg_unwrapper(variables):\n",
    "    return ', '.join([arg_unwrapper(t,v) for t,v in variables[['arg_type', 'arg_name']].values])\n"
   ]
  },
  {
   "cell_type": "code",
   "execution_count": 93,
   "metadata": {},
   "outputs": [],
   "source": [
    "def gen_fct(fct_name):\n",
    "    variables = db[db['fct_name']==fct_name]\n",
    "    return f\"\"\"\n",
    "        case {variables.iloc[0]['e_name']}: {{\n",
    "            {declare_variables(variables)}\n",
    "            \n",
    "            if( !(error = narg == {get_narg(variables)}? 0:ERROR_N_ARG)\n",
    "                && !(error = translate(env, elements, (etypes[]) {get_translate(variables)}))\n",
    "            ){{\n",
    "                {fct_name}({get_arg_unwrapper(variables)});\n",
    "            }}\n",
    "        }} break;\"\"\""
   ]
  },
  {
   "cell_type": "code",
   "execution_count": 94,
   "metadata": {},
   "outputs": [
    {
     "name": "stdout",
     "output_type": "stream",
     "text": [
      "Missing arguments:\n",
      "['char*' 'LAPACK_S_SELECT2' 'LAPACK_D_SELECT2' 'LAPACK_C_SELECT1'\n",
      " 'LAPACK_Z_SELECT1' 'LAPACK_S_SELECT3' 'LAPACK_D_SELECT3'\n",
      " 'LAPACK_C_SELECT2' 'LAPACK_Z_SELECT2' 'lapack_complex_float'\n",
      " 'lapack_complex_double']\n"
     ]
    }
   ],
   "source": [
    "# Filtering\n",
    "# only BLAS\n",
    "#db = db[ (db['return_type'] == 'void')]\n",
    "# BLAS and LAPACK with easy to use return type\n",
    "#db = db[ (db['return_type'] == 'void') | (db['return_type'] == 'lapack_int')]\n",
    "\n",
    "#lapack_to_del = db[db['arg_type'].str.contains('LAPACK')]['fct_name'].unique()\n",
    "#db = db[~db['fct_name'].str.contains('|'.join(lapack_to_del))]\n",
    "\n",
    "missing = db[~db['arg_type'].isin(data_table_c.keys())]['arg_type'].unique()\n",
    "print(\"Missing arguments:\")\n",
    "print(missing)\n",
    "lapacke_filtered = db.groupby('fct_name').filter(lambda x: all(x['arg_type'].isin(data_table_c.keys())))['fct_name'].unique().tolist()\n",
    "db = db[(db['fct_name'].isin(lapacke_filtered)) | (db['return_type'] == 'void')]"
   ]
  },
  {
   "cell_type": "code",
   "execution_count": 95,
   "metadata": {},
   "outputs": [],
   "source": [
    "functions_wrappers = ''.join(map(gen_fct, db['fct_name'].unique()))\n",
    "\n",
    "with open(\"unwrappers.txt\", \"w\") as f:\n",
    "    f.write(functions_wrappers)"
   ]
  },
  {
   "attachments": {},
   "cell_type": "markdown",
   "metadata": {},
   "source": [
    "### Hash tables"
   ]
  },
  {
   "cell_type": "code",
   "execution_count": 96,
   "metadata": {},
   "outputs": [],
   "source": [
    "def hash(string):\n",
    "    hash_value = 5381\n",
    "\n",
    "    for char in string:\n",
    "        hash_value = ((hash_value << 5) + hash_value) + ord(char)\n",
    "\n",
    "    return hash_value"
   ]
  },
  {
   "cell_type": "code",
   "execution_count": 97,
   "metadata": {},
   "outputs": [],
   "source": [
    "tests = {\n",
    "    'saxpy':210727551034,\n",
    "    'daxpy':210709762219,\n",
    "    'caxpy':210708576298,\n",
    "    'zaxpy':210735852481,\n",
    "}\n",
    "\n",
    "for k,v in tests.items():\n",
    "    if hash(k) != v:\n",
    "        print(f\"Error for {k}: expected {v}, obtained {hash(k)}\")"
   ]
  },
  {
   "cell_type": "code",
   "execution_count": 98,
   "metadata": {},
   "outputs": [],
   "source": [
    "hashes = \"\".join(map(lambda x: f\"   {x} = {hash(x)},\\n\", db[\"e_name\"].unique()))\n",
    "\n",
    "with open(\"hashes.txt\", \"w\") as f:\n",
    "    f.write(hashes)"
   ]
  },
  {
   "attachments": {},
   "cell_type": "markdown",
   "metadata": {},
   "source": [
    "#### Deploy"
   ]
  },
  {
   "cell_type": "code",
   "execution_count": 99,
   "metadata": {},
   "outputs": [],
   "source": [
    "def insert_in(woman, man, child):\n",
    "    with open(woman, 'r') as woman_f, open(man, 'r') as man_f, open(child, 'w') as child_f:\n",
    "        woman_txt = woman_f.read().split('//INSERT_HERE')\n",
    "        man_txt   = man_f.read()\n",
    "        child_f.write(woman_txt[0] + man_txt + woman_txt[1])\n",
    "\n",
    "insert_in(\"eblas.pseudo_c\", \"unwrappers.txt\", \"../../blas/c_src/eblas.c\")\n",
    "insert_in(\"tables.pseudo_h\", \"hashes.txt\", \"../../blas/c_src/tables.h\")"
   ]
  },
  {
   "cell_type": "code",
   "execution_count": 100,
   "metadata": {},
   "outputs": [
    {
     "name": "stdout",
     "output_type": "stream",
     "text": [
      "798\n"
     ]
    }
   ],
   "source": [
    "count = len(db[db['fct_name'].str.contains('LAPACKE', case=False)]['fct_name'].unique())\n",
    "print(count)"
   ]
  }
 ],
 "metadata": {
  "kernelspec": {
   "display_name": "Python 3",
   "language": "python",
   "name": "python3"
  },
  "language_info": {
   "codemirror_mode": {
    "name": "ipython",
    "version": 3
   },
   "file_extension": ".py",
   "mimetype": "text/x-python",
   "name": "python",
   "nbconvert_exporter": "python",
   "pygments_lexer": "ipython3",
   "version": "3.10.6"
  },
  "orig_nbformat": 4
 },
 "nbformat": 4,
 "nbformat_minor": 2
}
