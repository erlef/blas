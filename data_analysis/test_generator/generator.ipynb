{
 "cells": [
  {
   "cell_type": "code",
   "execution_count": 2,
   "metadata": {},
   "outputs": [
    {
     "name": "stdout",
     "output_type": "stream",
     "text": [
      "             fct_name return_type  e_name  arg_pos  \\\n",
      "0      LAPACKE_sbdsdc  lapack_int  sbdsdc        0   \n",
      "1      LAPACKE_sbdsdc  lapack_int  sbdsdc        1   \n",
      "2      LAPACKE_sbdsdc  lapack_int  sbdsdc        2   \n",
      "3      LAPACKE_sbdsdc  lapack_int  sbdsdc        3   \n",
      "4      LAPACKE_sbdsdc  lapack_int  sbdsdc        4   \n",
      "...               ...         ...     ...      ...   \n",
      "10406  LAPACKE_zupmtr  lapack_int  zupmtr        5   \n",
      "10407  LAPACKE_zupmtr  lapack_int  zupmtr        6   \n",
      "10408  LAPACKE_zupmtr  lapack_int  zupmtr        7   \n",
      "10409  LAPACKE_zupmtr  lapack_int  zupmtr        8   \n",
      "10410  LAPACKE_zupmtr  lapack_int  zupmtr        9   \n",
      "\n",
      "                           arg_type       arg_name  \n",
      "0                               int  matrix_layout  \n",
      "1                              char           uplo  \n",
      "2                              char          compq  \n",
      "3                        lapack_int              n  \n",
      "4                            float*              d  \n",
      "...                             ...            ...  \n",
      "10406                    lapack_int              n  \n",
      "10407  const lapack_complex_double*             ap  \n",
      "10408  const lapack_complex_double*            tau  \n",
      "10409        lapack_complex_double*              c  \n",
      "10410                    lapack_int            ldc  \n",
      "\n",
      "[9028 rows x 6 columns]\n"
     ]
    }
   ],
   "source": [
    "import pandas as pd\n",
    "\n",
    "db = pd.read_csv(\"../lapacke_db/lapacke.csv\", index_col=0)\n",
    "db = db[~ db['arg_type'].map(lambda x: ('LAPACK' in x))]\n",
    "\n",
    "print(db)"
   ]
  }
 ],
 "metadata": {
  "kernelspec": {
   "display_name": "Python 3",
   "language": "python",
   "name": "python3"
  },
  "language_info": {
   "codemirror_mode": {
    "name": "ipython",
    "version": 3
   },
   "file_extension": ".py",
   "mimetype": "text/x-python",
   "name": "python",
   "nbconvert_exporter": "python",
   "pygments_lexer": "ipython3",
   "version": "3.10.6"
  },
  "orig_nbformat": 4
 },
 "nbformat": 4,
 "nbformat_minor": 2
}
