{
 "cells": [
  {
   "cell_type": "code",
   "execution_count": 53,
   "metadata": {},
   "outputs": [],
   "source": [
    "import pandas as pd\n",
    "\n",
    "db = pd.read_csv(\"../lapacke_db/lapacke.csv\", index_col=0)\n",
    "db = db[~ db['arg_type'].map(lambda x: ('LAPACK' in x))]\n",
    "\n",
    "wrapped = set(db['fct_name'].map(lambda x: x.replace(\"LAPACKE_\", \"\")).unique())\n",
    "\n",
    "import glob\n",
    "\n",
    "prefix = \"../../../lapack/SRC/\"\n",
    "file_list = glob.glob(prefix + \"*.f\")\n",
    "\n",
    "file_names = set(map(lambda x: x.replace(prefix, \"\").replace(\".f\",\"\"), file_list))"
   ]
  },
  {
   "cell_type": "code",
   "execution_count": 54,
   "metadata": {},
   "outputs": [
    {
     "name": "stdout",
     "output_type": "stream",
     "text": [
      "Files that should be not wrapped:\n",
      "{'slarrd', 'zsytf2_rk', 'chetrd_2stage', 'clarzb', 'zhetf2_rook', 'ssytri2', 'dlarrk', 'cunhr_col', 'cspr', 'cheevx_2stage', 'clasyf_rk', 'cgemqr', 'sorgr2', 'clarft', 'csytrs_rook', 'dla_syrcond', 'dlasdt', 'dlaqr1', 'chetri_3', 'dgeqrt3', 'zsytrs2', 'sgeql2', 'clapll', 'clahef_aa', 'sorbdb6', 'slansb', 'zlarfg', 'clalsa', 'dlaqz4', 'zpstf2', 'zhetd2', 'slarfg', 'dorbdb', 'ssytrf_rk', 'cgsvj0', 'slantp', 'dlaed7', 'dlalsa', 'dorbdb5', 'zlaqge', 'clanhb', 'ssytrd_sy2sb', 'slansf', 'dlasd2', 'sgelqt', 'slals0', 'dgetc2', 'zlatrd', 'slarrc', 'chetri_rook', 'slasd2', 'slauu2', 'dorbdb3', 'zgerfsx', 'dsytri2', 'dorg2l', 'sisnan', 'cgesc2', 'slapy3', 'sgsvj0', 'dlaqsb', 'dlaisnan', 'zlarfx', 'cheevr_2stage', 'dlarrf', 'clantb', 'chesv_rk', 'clarfb_gett', 'dorm22', 'dlamtsqr', 'dlaqtr', 'dorcsd2by1', 'zcposv', 'chetrd_he2hb', 'clascl2', 'chetf2_rk', 'zla_hercond_x', 'zlasyf', 'cla_gbrfsx_extended', 'sgelst', 'sgerq2', 'dlarrr', 'dsyconv', 'csyconvf_rook', 'zlamswlq', 'dlahqr', 'dlapy2', 'dgetsls', 'zgelst', 'dlartgs', 'cungl2', 'dlarz', 'cungtsqr_row', 'dlantr', 'dladiv', 'zlabrd', 'dgesvdq', 'ilaclr', 'sla_porcond', 'dbdsvdx', 'chetd2', 'claqge', 'dlarra', 'ilaclc', 'ssyswapr', 'dlaruv', 'cla_hercond_x', 'zlarnv', 'dsytd2', 'cla_syrcond_x', 'zpotf2', 'claev2', 'zgerq2', 'clahef_rk', 'zbbcsd', 'cunbdb3', 'zhbev_2stage', 'chb2st_kernels', 'slauum', 'slasdq', 'slaswlq', 'clarfg', 'dlapll', 'claqr2', 'zhecon_rook', 'zhetrd_he2hb', 'dggsvp3', 'zla_gbrfsx_extended', 'dsyevx_2stage', 'dla_gerfsx_extended', 'zlarzb', 'zlascl', 'zsymv', 'slaed7', 'csytrf_aa', 'slasyf_aa', 'dsytrs_3', 'cunbdb4', 'slarfb_gett', 'zgeql2', 'slasr', 'slaed8', 'dorgtsqr_row', 'slarzt', 'sgeqrt2', 'zgeqr2p', 'slarfx', 'cgeqrt2', 'zsytrf_aa_2stage', 'ztpmqrt', 'cunm22', 'slae2', 'sgeqr', 'zlahef_aa', 'iladiag', 'cgeqr', 'ztpqrt', 'zunbdb4', 'zlacp2', 'cla_gbrpvgrw', 'dlasda', 'ctplqt2', 'chetri2', 'ssyconvf_rook', 'dtprfb', 'zhetf2_rk', 'zsytrf_rk', 'cgeql2', 'slaqsy', 'sorgtsqr_row', 'zlaqsp', 'clange', 'zsysv_aa', 'zlahef', 'claqz1', 'clahr2', 'claqr5', 'slangt', 'dlasd0', 'sbdsvdx', 'dggev3', 'dlaqr4', 'dsyconvf', 'zgbrfsx', 'zlaqz0', 'dlaed9', 'slaset', 'dsytri_3x', 'zunm22', 'slaqr1', 'dlaqr2', 'csyconvf', 'zlaqhb', 'spbtf2', 'slasq1', 'zlaqr1', 'ilaslr', 'zlanhs', 'zsytrs_aa', 'cunmr3', 'sggev3', 'ssyconv', 'sorgtsqr', 'zherfsx', 'zpotrf2', 'slaqr2', 'ssyev_2stage', 'sgelq', 'dgelq', 'cla_gerfsx_extended', 'clatdf', 'sorbdb4', 'cla_gerpvgrw', 'ctgsy2', 'cungtsqr', 'claed7', 'dlacn2', 'slaqr5', 'dtrsyl3', 'zlarfy', 'dgesc2', 'cgemlq', 'sgeqr2p', 'dla_lin_berr', 'slarz', 'sla_syrfsx_extended', 'xerbla_array', 'dlaed4', 'slahqr', 'chetrs_aa_2stage', 'dlasd3', 'sorhr_col', 'zsytrs_aa_2stage', 'zsyr', 'dlaqr5', 'zgelq2', 'dgetrf2', 'slarfb', 'dla_gerpvgrw', 'slagts', 'claed0', 'cgejsv', 'spotf2', 'claqr1', 'dlarrc', 'zlag2c', 'clacrm', 'zunm2r', 'zlasyf_rook', 'ssysv_aa', 'cpotf2', 'claed8', 'zla_gerfsx_extended', 'dporfsx', 'dlaqps', 'dorbdb2', 'zhetrs2', 'dlaqsp', 'zla_syrcond_c', 'chetrf_aa_2stage', 'dlasq1', 'zgesvdx', 'cgetsls', 'clansp', 'claqz3', 'cgehd2', 'zhetri2x', 'dlabad', 'sorg2l', 'zheevd_2stage', 'ssytf2_rk', 'zgebd2', 'dlasyf_rook', 'zlangb', 'sorbdb2', 'clatrz', 'slacpy', 'dlasdq', 'zhetrs_aa', 'dlasy2', 'zla_porfsx_extended', 'sormr2', 'claqsb', 'clansb', 'cheevd_2stage', 'zporfsx', 'sgbtf2', 'zheswapr', 'zunbdb', 'slatrs', 'csytf2_rook', 'dsyswapr', 'zlanhp', 'zla_gbrcond_x', 'zlarcm', 'zunm2l', 'slasv2', 'dgetf2', 'cunbdb', 'zdrscl', 'dlaqr3', 'zla_gercond_c', 'slalsd', 'sggesx', 'dla_syrpvgrw', 'zlarz', 'cla_wwaddw', 'zgetrf2', 'slar1v', 'zhetri_3x', 'chetf2', 'dlarfg', 'strsyl3', 'zla_geamv', 'zla_lin_berr', 'zsytrf_rook', 'dlalsd', 'cla_porfsx_extended', 'zlarrv', 'zheevr_2stage', 'dgebd2', 'sla_gerfsx_extended', 'zlacn2', 'dsytf2_rk', 'zlauum', 'clagtm', 'dlaset', 'ssytri_3', 'csytrs2', 'ssytrs_aa', 'zlaqz2', 'dlagts', 'slaorhr_col_getrfnp2', 'dorgr2', 'ssytrs2', 'zggsvd3', 'dsytrs_aa', 'cpotrf2', 'slaisnan', 'csyrfsx', 'sla_syrcond', 'zlaev2', 'slaqr0', 'clarfb', 'dgeqr', 'claqp2', 'clasyf_aa', 'ssysv_rk', 'zlaqz1', 'zuncsd2by1', 'cgemlqt', 'zlapll', 'dtrti2', 'ctrsyl3', 'sgetsqrhrt', 'ssyevr_2stage', 'chesv_aa_2stage', 'zspr', 'csytri_rook', 'checon_rook', 'dla_syamv', 'sgtts2', 'ssysv_aa_2stage', 'cgebd2', 'dggesx', 'dtpqrt', 'dlaqge', 'cunbdb2', 'sla_lin_berr', 'slamrg', 'zsytrf_aa', 'dsytrf_aa_2stage', 'slarrf', 'zla_gbrpvgrw', 'dlaev2', 'zgges3', 'zhetrd_2stage', 'chetri2x', 'zcgesv', 'slaic1', 'dla_porpvgrw', 'chesv_rook', 'slaqr3', 'dlansp', 'zlahef_rook', 'dtplqt2', 'clauu2', 'dlartv', 'slaqgb', 'dlasv2', 'claqgb', 'slatsqr', 'slaeda', 'dlarfb_gett', 'slarzb', 'dorg2r', 'sgeqr2', 'ssytri2x', 'sgelq2', 'slapy2', 'cunbdb5', 'zlacon', 'ctrevc3', 'zgeesx', 'zlansb', 'zlansy', 'dgemlq', 'slarrb', 'zladiv', 'slaqge', 'cla_lin_berr', 'zunml2', 'zlacpy', 'dlanhs', 'dtpmlqt', 'zsyrfsx', 'chetrs_rook', 'ilaslc', 'cgerfsx', 'dtplqt', 'dlaqgb', 'zlatdf', 'zhesv_rk', 'zsycon_rook', 'sla_porfsx_extended', 'chetf2_rook', 'slaev2', 'clarf', 'dsytrs2', 'zlacgv', 'clanhf', 'dlag2', 'zlaed0', 'sorgl2', 'slaexc', 'stgex2', 'zgesvj', 'cladiv', 'dsytri2x', 'dlascl', 'sla_gbamv', 'clacon', 'cporfsx', 'zlatsqr', 'dlantp', 'dtgex2', 'slasyf_rk', 'sggsvd3', 'drscl', 'dlals0', 'dlanv2', 'slag2', 'zhetrs_3', 'ieeeck', 'sla_geamv', 'slamtsqr', 'zhbevd_2stage', 'dorgl2', 'ssyevx_2stage', 'zsyswapr', 'dpstf2', 'dla_geamv', 'zgelqt3', 'ztplqt2', 'dlatrs3', 'dlatps', 'csyr', 'csytrf_rook', 'csysv_aa', 'dlatdf', 'dsycon_3', 'spotrf2', 'csysv_rk', 'cgesvdq', 'chbevd_2stage', 'zggsvp3', 'dlatrz', 'zlaqp2', 'slaqps', 'dlaed2', 'dlarzt', 'dlaic1', 'dsyconvf_rook', 'slaqz0', 'zlanht', 'dlansb', 'zhecon_3', 'zungr2', 'slarrk', 'sorml2', 'ztprfb', 'cla_syrcond_c', 'slapmr', 'cuncsd', 'zla_porcond_x', 'ssytrs_rook', 'zla_gbamv', 'cbbcsd', 'clarzt', 'cunmr2', 'dsyev_2stage', 'sgemqrt', 'dlaeda', 'csrscl', 'dsysv_rk', 'stpmlqt', 'sorm2r', 'slatrs3', 'zsytri_3x', 'sgemlqt', 'dtpmqrt', 'zla_porcond_c', 'clahqr', 'dsytf2_rook', 'dtpqrt2', 'clasyf_rook', 'zlat2c', 'zlauu2', 'dlapy3', 'slascl', 'zla_syamv', 'zhesv_aa_2stage', 'cpstf2', 'clanhe', 'dla_porcond', 'zung2r', 'stprfb', 'zlasyf_aa', 'ssytri_3x', 'clatbs', 'slagv2', 'dsysv_rook', 'slaqsb', 'cla_hercond_c', 'zsycon_3', 'dlarscl2', 'dgeqr2', 'ilazlr', 'zla_herpvgrw', 'claqhb', 'dsygv_2stage', 'stplqt', 'crot', 'dorml2', 'dlar1v', 'zgelqt', 'ssbev_2stage', 'zlarf', 'dgemqr', 'cla_gbrcond_c', 'csycon_3', 'csytri_3', 'dsbev_2stage', 'zhetrs_aa_2stage', 'zlacrm', 'ctgex2', 'zla_heamv', 'slasd1', 'ztpqrt2', 'slanv2', 'zunbdb2', 'sggsvp3', 'zsytri_rook', 'slasq5', 'chbevx_2stage', 'slasdt', 'dgerfsx', 'zlaqgb', 'slaorhr_col_getrfnp', 'dlasd1', 'dgsvj1', 'slantb', 'zgtts2', 'zlaein', 'sgesvdq', 'zlarscl2', 'dla_gbrpvgrw', 'zlaqr3', 'dlae2', 'sgemqr', 'cla_gbrcond_x', 'csymv', 'zsytf2', 'slange', 'dgtts2', 'sgsvj1', 'dlarrj', 'clacp2', 'stpmqrt', 'clasr', 'dlangt', 'clar2v', 'clauum', 'dgghd3', 'dlarnv', 'sla_porpvgrw', 'sgebd2', 'slar2v', 'cla_gercond_x', 'zhetrf_rk', 'cgelqt3', 'sorbdb5', 'sla_syrpvgrw', 'dlaqp2', 'clar1v', 'dlamswlq', 'sporfsx', 'clanhs', 'scsum1', 'sormr3', 'dpbtf2', 'chla_transtype', 'sla_gercond', 'dlasq6', 'sla_gbrcond', 'ssytrf_aa', 'ssytrs_aa_2stage', 'slaed3', 'zunmr2', 'cung2l', 'claset', 'csytri2', 'zla_gbrcond_c', 'cpbtf2', 'zunbdb1', 'zhb2st_kernels', 'cgelq', 'slasd7', 'zlarfb_gett', 'clag2z', 'dlasd6', 'dsytri_3', 'slarrj', 'dsytf2', 'slahr2', 'dgsvj0', 'slaruv', 'dlaswlq', 'slacn2', 'zlange', 'dlas2', 'dzsum1', 'csytf2_rk', 'dlatrd', 'dlags2', 'csysv_rook', 'cheev_2stage', 'ilazlc', 'dlaed1', 'sgbrfsx', 'dlasr', 'sgetc2', 'zgehd2', 'clacgv', 'cla_gbamv', 'cgges3', 'zgeqr', 'spstf2', 'slaed1', 'dlarft', 'sorm2l', 'dsbevd_2stage', 'zlasr', 'zlaunhr_col_getrfnp2', 'slaneg', 'cgeqr2p', 'cgbrfsx', 'slarft', 'clalsd', 'dlaqsy', 'dlaexc', 'csytrf_rk', 'sla_syamv', 'cuncsd2by1', 'cgelst', 'ctplqt', 'clangb', 'slatrd', 'csytrs_aa_2stage', 'sla_gbrpvgrw', 'ilaenv', 'cla_porcond_x', 'slantr', 'zhetri_rook', 'zlalsd', 'zla_herfsx_extended', 'zlaqr4', 'claqr4', 'zheevx_2stage', 'zungtsqr', 'csytrs_3', 'dlaed5', 'zunbdb6', 'strti2', 'zsyconv', 'zlahqr', 'slaqsp', 'dla_gercond', 'dla_wwaddw', 'claqhe', 'sorg2r', 'zla_gerpvgrw', 'claqr0', 'dgelq2', 'zlaesy', 'slasd3', 'claqz0', 'slasq4', 'dlanst', 'dbbcsd', 'cgesvj', 'zlaswp', 'dptts2', 'clangt', 'dlasyf', 'ctpmlqt', 'dlaqz0', 'clantr', 'sgeqrt3', 'clabrd', 'slatbs', 'dlasyf_rk', 'clapmr', 'dla_gbrcond', 'dlaorhr_col_getrfnp2', 'chetrf_aa', 'claqsp', 'ztgex2', 'clacn2', 'ilaenv2stage', 'clarfx', 'clansy', 'disnan', 'dlasq4', 'cggsvd3', 'dlasd4', 'dlaln2', 'sla_wwaddw', 'cla_syrpvgrw', 'dgeql2', 'csytrs_aa', 'ssytrs_3', 'slaed0', 'slarrv', 'dlacpy', 'slas2', 'cungr2', 'dlarfy', 'slaqz3', 'sorcsd', 'zhegv_2stage', 'dsycon_rook', 'slaqz1', 'dorbdb4', 'claunhr_col_getrfnp2', 'zptts2', 'dsysv_aa_2stage', 'claic1', 'cgetf2', 'dlat2s', 'chegs2', 'cgerq2', 'slaqp2', 'zsytrs_rook', 'zlaqsy', 'csyconv', 'zsytrs_3', 'dgges3', 'sgemlq', 'slanst', 'slarrr', 'ssb2st_kernels', 'zlamtsqr', 'slapmt', 'dlarfx', 'zhetrf_aa_2stage', 'dorm2l', 'dlapmr', 'dlaqz2', 'dsysv_aa', 'slansp', 'zsyconvf_rook', 'slarf', 'clacpy', 'dlaswp', 'cgemqrt', 'zlasyf_rk', 'dlaed8', 'slasd5', 'dlarrb', 'dsytrf_rk', 'slasda', 'zlapmr', 'zhetrf_aa', 'clasyf', 'dlarfgp', 'stplqt2', 'clarscl2', 'zlaqsb', 'sgges3', 'sgelqt3', 'ssysv_rook', 'zlantp', 'slasq6', 'dgbrfsx', 'zgsvj1', 'claqz2', 'ssytd2', 'zgghd3', 'dsytrf_aa', 'slaed9', 'dlag2s', 'slag2d', 'clamswlq', 'dlagv2', 'zgejsv', 'dgerq2', 'zlaed8', 'ssycon_3', 'stpqrt', 'csytri2x', 'csyswapr', 'slascl2', 'claunhr_col_getrfnp', 'zla_syrfsx_extended', 'slaed2', 'ssytf2_rook', 'dorbdb1', 'dsytrs_rook', 'iladlr', 'slaqz2', 'dlaneg', 'zlantr', 'claswlq', 'zgemlqt', 'sla_gbrfsx_extended', 'cggev3', 'csytrf_aa_2stage', 'cgetsqrhrt', 'dorgtsqr', 'zlatrz', 'clamtsqr', 'zlaqhp', 'clals0', 'dsyevd_2stage', 'claein', 'zgemqrt', 'dlar2v', 'zlaqps', 'zgeqr2', 'dlaein', 'cspmv', 'zgemqr', 'clatrs', 'zunmr3', 'ssyevd_2stage', 'ilaprec', 'clapmt', 'dpotf2', 'zunbdb5', 'zlagtm', 'dggsvd3', 'checon_3', 'cgeqr2', 'claqsy', 'iladlc', 'slarmm', 'clarnv', 'dgemqrt', 'zlar2v', 'sbbcsd', 'slasd8', 'dlahr2', 'dgelqt', 'dgeqrt', 'dlasq3', 'chegv_2stage', 'zsytf2_rook', 'cunm2r', 'ssycon_rook', 'dgehd2', 'dlaqz1', 'ztplqt', 'zlags2', 'ssytf2', 'zungl2', 'cgetc2', 'zlaqr2', 'dlaed6', 'clacrt', 'zla_syrpvgrw', 'srscl', 'slasd6', 'dla_syrfsx_extended', 'sptts2', 'cgelq2', 'sgetsls', 'dlarre', 'slasyf', 'sgesc2', 'ztrevc3', 'clanhp', 'cunm2l', 'zsysv_rook', 'dlarrv', 'slarfgp', 'dsytri_rook', 'slartgp', 'zhetrf_rook', 'dsyrfsx', 'clanht', 'clatrd', 'dgeqr2p', 'zlarft', 'slarscl2', 'clarz', 'dsbevx_2stage', 'dlaqz3', 'dlansf', 'zlarfgp', 'sgesvdx', 'zlanhb', 'dgeesx', 'ilauplo', 'ssyconvf', 'zlaic1', 'dsytrd_2stage', 'clarfy', 'dlaorhr_col_getrfnp', 'zlarzt', 'dlauum', 'slasd4', 'zhegs2', 'slansy', 'clags2', 'dlagtm', 'ssbevd_2stage', 'cunml2', 'dlaqr0', 'chetrs_3', 'dorbdb6', 'dormr2', 'zggev3', 'dlansy', 'claesy', 'dorm2r', 'csytri_3x', 'slabad', 'cggesx', 'dla_gbrfsx_extended', 'dlaed0', 'zlantb', 'claqps', 'sgetf2', 'dlabrd', 'slasy2', 'clantp', 'slaed6', 'slatps', 'ssygv_2stage', 'cgeqrt3', 'claqhp', 'zlaqr5', 'zgetf2', 'zgeqrt', 'sorbdb1', 'ctpqrt2', 'sgerfsx', 'lsamen', 'dlatbs', 'sgehd2', 'zla_wwaddw', 'slarnv', 'dsytrd_sy2sb', 'slatdf', 'cla_gercond_c', 'slarre', 'zlatrs', 'sladiv', 'zgbtf2', 'clatsqr', 'zlaqz3', 'ctrti2', 'slaein', 'sorm22', 'cgsvj1', 'zlaqr0', 'zlahr2', 'zgemlq', 'dgelqt3', 'dlargv', 'dlasyf_aa', 'sgetrf2', 'dorhr_col', 'cgelqt', 'ztrti2', 'slasq2', 'iparmq', 'zsysv_aa_2stage', 'dlaebz', 'slaswp', 'clartv', 'chbev_2stage', 'dlantb', 'slaqz4', 'zgesc2', 'claqr3', 'chetri_3x', 'zlansp', 'slasq3', 'zgetsqrhrt', 'zggesx', 'zgsvj0', 'slaqr4', 'zgelq', 'zgetc2', 'zhesv_aa', 'dlaed3', 'zla_syrcond_x', 'zpbtf2', 'slaed4', 'zuncsd', 'cla_heamv', 'dlarmm', 'zsytri2x', 'sla_gerpvgrw', 'zlapmt', 'zlals0', 'slartgs', 'zrot', 'slapll', 'zlalsa', 'zgetsls', 'ztpmlqt', 'dlasrt', 'cung2r', 'chesv_aa', 'zsysv_rk', 'dlapmt', 'csycon_rook', 'cgesvdx', 'dlartgp', 'dlarzb', 'zlaqhe', 'zhbevx_2stage', 'dla_gbamv', 'zhetri2', 'dlacon', 'zhesv_rook', 'cggsvp3', 'zlaed7', 'dlagtf', 'dlange', 'zheev_2stage', 'cgbtf2', 'ctpmqrt', 'cgetrf2', 'dlasq5', 'zgesvdq', 'sgghd3', 'sorcsd2by1', 'strevc3', 'dlarfb', 'ctprfb', 'dla_porfsx_extended', 'chetrf_rook', 'icmax1', 'izmax1', 'dgetsqrhrt', 'slartv', 'sgeesx', 'zsytri2', 'slalsa', 'ssytrf_rook', 'zlanhf', 'cunbdb6', 'zlarfb', 'dsb2st_kernels', 'dpotrf2', 'ssygs2', 'cheswapr', 'cherfsx', 'sorbdb', 'dsytrf_rook', 'dlascl2', 'slasyf_rook', 'cla_porpvgrw', 'dlasd5', 'slaln2', 'sgeqrt', 'zla_porpvgrw', 'chetrs_aa', 'dlangb', 'zlaset', 'ssyrfsx', 'ilatrans', 'dsposv', 'dtrevc3', 'cla_geamv', 'claswp', 'dgemlqt', 'dgbtf2', 'dlarf', 'ssbevx_2stage', 'dgeqrt2', 'dlasq2', 'cla_herpvgrw', 'zhetf2', 'slarfy', 'zlar1v', 'dlasd8', 'zspmv', 'zlahef_rk', 'zlartv', 'clarrv', 'dlamrg', 'csysv_aa_2stage', 'xerbla', 'stpqrt2', 'slasd0', 'zlascl2', 'slangb', 'slaed5', 'clahef', 'slabrd', 'dgesvdx', 'zlaunhr_col_getrfnp', 'zsyconvf', 'cla_syamv', 'sorbdb3', 'zunhr_col', 'zunbdb3', 'slagtf', 'dlasd7', 'cla_herfsx_extended', 'slatrz', 'clargv', 'chetrf_rk', 'cgeqrt', 'clarcm', 'dgelst', 'ctpqrt', 'clatrs3', 'dormr3', 'zungtsqr_row', 'dlarrd', 'slargv', 'ztgsy2', 'zla_hercond_c', 'csytf2', 'cptts2', 'slags2', 'slagtm', 'cgghd3', 'ssytri_rook', 'clascl', 'chetrs2', 'zung2l', 'zlatbs', 'dsgesv', 'slacon', 'dlatrs', 'stgsy2', 'slasrt', 'zlanhe', 'slaebz', 'slaqtr', 'clatps', 'zlatrs3', 'dorcsd', 'zlargv', 'dsygs2', 'slamswlq', 'cla_syrfsx_extended', 'ssytrd_2stage', 'zhetri_3', 'zlaswlq', 'cla_porcond_c', 'zhetrs_rook', 'ztrsyl3', 'zlatps', 'zgeqrt3', 'slanhs', 'cunbdb1', 'zsytri_3', 'clahef_rook', 'zlacrt', 'zlangt', 'zla_gercond_x', 'clarfgp', 'cgtts2', 'cgeesx', 'zgeqrt2', 'ssytrf_aa_2stage', 'dlauu2', 'dsyevr_2stage', 'dlatsqr', 'slarra', 'dtgsy2', 'dsytrs_aa_2stage'}\n",
      "Files missing:\n",
      "{'cggsvd', 'cgeqpf', 'dggsvp', 'sggsvd', 'zggsvd', 'sggsvp', 'sgeqpf', 'zgeqpf', 'dgeqpf', 'cggsvp', 'zggsvp', 'dggsvd'}\n",
      "../../../lapack/SRC/cgbtrs.f\n"
     ]
    }
   ],
   "source": [
    "excluded_files = {f for f in file_names if not f in wrapped}\n",
    "print(\"Files that should be not wrapped:\")\n",
    "print(excluded_files)\n",
    "\n",
    "missing_files = {f for f in wrapped if not f in file_names}\n",
    "print(\"Files missing:\")\n",
    "print(missing_files)\n",
    "\n",
    "file_names = {f for f in file_names if f not in excluded_files and f not in missing_files}\n",
    "file_list  = [prefix + f + \".f\" for f in file_names] \n",
    "\n",
    "print(file_list[-1])"
   ]
  },
  {
   "cell_type": "markdown",
   "metadata": {},
   "source": [
    "#### Extract the types of variables from each file"
   ]
  },
  {
   "cell_type": "code",
   "execution_count": 102,
   "metadata": {},
   "outputs": [
    {
     "name": "stdout",
     "output_type": "stream",
     "text": [
      "Printing results:\n",
      "Scalar types\n",
      "{'COMPLEX*16', 'REAL', 'INTEGER', 'CHARACTER*1', 'CHARACTER', 'COMPLEX', 'LOGICAL', 'DOUBLE PRECISION'}\n",
      "Arrays types\n",
      "{'COMPLEX*16', 'REAL', 'INTEGER', 'CHARACTER*1', 'COMPLEX', 'LOGICAL', 'DOUBLE PRECISION'}\n"
     ]
    }
   ],
   "source": [
    "import re\n",
    "\n",
    "def local_print(txt):\n",
    "    #print(txt)\n",
    "    return\n",
    "\n",
    "def extract_between(file_path, prefix, suffix):\n",
    "    local_print(\"Reading file \" + file_path)\n",
    "    extracted_content = []\n",
    "    is_extracting = False\n",
    "\n",
    "    with open(file_path, 'r') as file:\n",
    "        for line in file:\n",
    "            if 'implicit' in line.lower():\n",
    "                continue\n",
    "            #print(\"reading \" + line)\n",
    "            if prefix in line:\n",
    "                #print('start')\n",
    "                is_extracting = True\n",
    "                continue\n",
    "            \n",
    "            if suffix == line[0] and is_extracting:\n",
    "                #print('end')\n",
    "                is_extracting = False\n",
    "                break\n",
    "            \n",
    "            if is_extracting:\n",
    "                extracted_content.append(line.strip())\n",
    "    \n",
    "    merged_lines = []\n",
    "    for line in extracted_content:\n",
    "        if \"$\" in line:\n",
    "            line = line.replace(\"$\", \"\").strip()\n",
    "            merged_lines[-1] = merged_lines[-1] + line\n",
    "\n",
    "            local_print(\"@@@@@@@@@@ MERGE RESULT \" + merged_lines[-1])\n",
    "        else:\n",
    "            merged_lines.append(line)\n",
    "\n",
    "    return merged_lines\n",
    "\n",
    "def extract_declarations(file_path):\n",
    "    scalar_prefix   = \"\"\"*     .. Scalar\"\"\"\n",
    "    array_prefix    = \"\"\"*     .. Array\"\"\"\n",
    "    suffix          = \"\"\"*\"\"\"\n",
    "\n",
    "    scalar = extract_between(file_path, scalar_prefix, suffix)\n",
    "    array  = extract_between(file_path, array_prefix, suffix)\n",
    "\n",
    "    if len(scalar[0]) == 1 or len(array[0]) == 1:\n",
    "        local_print(\"Error reading \" + file_path)\n",
    "\n",
    "    return {\"scalar\": scalar, \"array\": array}\n",
    "\n",
    "\n",
    "def extract_type(declaration):\n",
    "    local_print(declaration)\n",
    "    result = re.split(\"\\s\\s+\", declaration)\n",
    "    local_print(\" Result is \" + result[0])\n",
    "    \n",
    "    if len(result) == 1:\n",
    "        local_print(\"Issue with \" + result[0] + \"\\n attempting fix\")\n",
    "        # Split at the last space occuring before a comma\n",
    "        modified_declaration = declaration.replace(\"( \", \"\").replace(\" )\", \"\")\n",
    "        first_comma = modified_declaration.find(\",\")\n",
    "        last_space_index = modified_declaration.rfind(' ', 0, first_comma)\n",
    "\n",
    "        result = modified_declaration[0:last_space_index]\n",
    "        return result\n",
    "\n",
    "    else:\n",
    "        t, _ = result\n",
    "        return t\n",
    "\n",
    "Scalars = set()\n",
    "Arrays = set()\n",
    "\n",
    "for f in file_list:\n",
    "    for Group, Insertions in zip((Scalars, Arrays), extract_declarations(f).values()):\n",
    "        Group.update(set(map(extract_type, Insertions)))\n",
    "\n",
    "print(\"Printing results:\\nScalar types\")\n",
    "print(Scalars)\n",
    "print(\"Arrays types\")\n",
    "print(Arrays)"
   ]
  },
  {
   "cell_type": "code",
   "execution_count": 35,
   "metadata": {},
   "outputs": [
    {
     "name": "stdout",
     "output_type": "stream",
     "text": [
      "cgbtrs ['TRANS', 'N', 'KL', 'KU', 'NRHS', 'AB', 'LDAB', 'IPIV', 'B', 'LDB', 'INFO']\n"
     ]
    }
   ],
   "source": [
    "import re\n",
    "\n",
    "def extract_subroutines(file_path):\n",
    "    subroutines = []\n",
    "    \n",
    "    with open(file_path, 'r') as file:\n",
    "        content = file.read()\n",
    "        \n",
    "        # Extract subroutine blocks using regular expressions\n",
    "        subroutine_blocks = re.findall(r\"(?i)^\\s*SUBROUTINE\\s+(\\w+)\\s*\\((.*?)\\)\", content, re.DOTALL | re.MULTILINE)\n",
    "        \n",
    "        # Process each subroutine block\n",
    "        for subroutine_block in subroutine_blocks:\n",
    "            subroutine_name = subroutine_block[0].lower()\n",
    "            subroutine_params = subroutine_block[1].replace(\" \",\"\").replace(\"\\n$\", \"\").split(\",\")\n",
    "         \n",
    "            \n",
    "            local_print(subroutine_name, subroutine_params)\n",
    "\n",
    "    return subroutines\n",
    "\n",
    "def extract_content_between(file_path, prefix, suffix):\n",
    "    extracted_content = []\n",
    "    \n",
    "    with open(file_path, 'r') as file:\n",
    "        is_extracting = False\n",
    "        \n",
    "        for line in file:\n",
    "            if line.strip() == prefix:\n",
    "                is_extracting = True\n",
    "                continue\n",
    "            \n",
    "            if line.strip() == suffix:\n",
    "                is_extracting = False\n",
    "            \n",
    "            if is_extracting:\n",
    "                extracted_content.append(line.strip())\n",
    "    \n",
    "    return extracted_content\n",
    "def extract_variables(file_path):\n",
    "    \n",
    "# Extract subroutines, names, and parameters\n",
    "subroutines = extract_subroutines(file_list[-1])\n",
    "\n",
    "# local_print the results\n",
    "for subroutine_name, subroutine_params in subroutines:\n",
    "    local_print(f\"Subroutine: {subroutine_name}\")\n",
    "    local_print(\"Parameters:\")\n",
    "    for param_name, param_type in subroutine_params:\n",
    "        local_print(f\"\\tName: {param_name}, Type: {param_type}\")\n",
    "    local_print()"
   ]
  },
  {
   "cell_type": "code",
   "execution_count": null,
   "metadata": {},
   "outputs": [],
   "source": []
  }
 ],
 "metadata": {
  "kernelspec": {
   "display_name": "Python 3",
   "language": "python",
   "name": "python3"
  },
  "language_info": {
   "codemirror_mode": {
    "name": "ipython",
    "version": 3
   },
   "file_extension": ".py",
   "mimetype": "text/x-python",
   "name": "python",
   "nbconvert_exporter": "python",
   "pygments_lexer": "ipython3",
   "version": "3.10.6"
  },
  "orig_nbformat": 4
 },
 "nbformat": 4,
 "nbformat_minor": 2
}
