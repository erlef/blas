{
 "cells": [
  {
   "cell_type": "code",
   "execution_count": 72,
   "metadata": {},
   "outputs": [
    {
     "name": "stdout",
     "output_type": "stream",
     "text": [
      "{'char*', 'double', 'const float*', 'lapack_complex_float*', 'int', 'char', 'const lapack_logical*', 'lapack_complex_float', 'lapack_logical*', 'lapack_logical', 'lapack_int*', 'const lapack_int*', 'const double*', 'float*', 'const lapack_complex_float*', 'lapack_int', 'double*', 'lapack_complex_double*', 'lapack_complex_double', 'const lapack_complex_double*', 'float'}\n",
      "{'lapack_logical', 'lapack_int*', 'char*', 'double', 'const float*', 'const lapack_int*', 'const double*', 'float*', 'const lapack_complex_float*', 'double*', 'char', 'lapack_complex_double*', 'const lapack_logical*', 'lapack_complex_double', 'lapack_complex_float', 'const lapack_complex_double*', 'lapack_logical*', 'float'}\n",
      "{'lapack_logical', 'lapack_int*', 'char*', 'double', 'const float*', 'const double*', 'float*', 'double*', 'lapack_complex_double*', 'const lapack_logical*', 'lapack_complex_double', 'lapack_complex_float', 'const lapack_complex_double*', 'lapack_logical*', 'float'}\n",
      "{'lapack_logical', 'double*', 'lapack_complex_double*', 'double', 'const float*', 'const lapack_logical*', 'lapack_complex_double', 'const double*', 'lapack_complex_float', 'const lapack_complex_double*', 'lapack_logical*', 'float'}\n",
      "{'lapack_logical', 'lapack_complex_double*', 'const float*', 'const lapack_logical*', 'lapack_complex_double', 'lapack_complex_float', 'const lapack_complex_double*', 'lapack_logical*', 'float'}\n",
      "{'lapack_logical', 'const float*', 'lapack_complex_double', 'lapack_complex_float', 'lapack_logical*', 'float'}\n",
      "{'lapack_complex_double', 'lapack_logical', 'lapack_complex_float', 'lapack_logical*'}\n",
      "{'lapack_complex_double', 'lapack_logical', 'lapack_complex_float'}\n",
      "{'lapack_complex_double', 'lapack_logical'}\n",
      "{'lapack_complex_double'}\n",
      "['LAPACKE_cgehrd', 'LAPACKE_cgbtrs', 'LAPACKE_cgbsvx', 'LAPACKE_dgbcon', 'LAPACKE_zhsein', 'LAPACKE_cptcon', 'LAPACKE_cstemr', 'LAPACKE_ctfsm', 'LAPACKE_ctgexc', 'LAPACKE_ztfsm']\n"
     ]
    }
   ],
   "source": [
    "import pandas as pd\n",
    "\n",
    "db = pd.read_csv(\"../lapacke_db/lapacke.csv\", index_col=0)\n",
    "db = db[~ db['arg_type'].map(lambda x: ('LAPACK' in x))]\n",
    "\n",
    "fcts_unique_args = db.groupby('fct_name')['arg_type'].unique().map(lambda l: set(l)).reset_index()\n",
    "types_to_test = set(db['arg_type'].unique())\n",
    "fct_to_test = []\n",
    "\n",
    "while len(types_to_test) > 0:\n",
    "    print(types_to_test)\n",
    "    # select the function with the highest number of different arguments\n",
    "    n_diff_args = fcts_unique_args['arg_type'].map(lambda k: len(k))\n",
    "    n_diff_args = n_diff_args[n_diff_args < 4]\n",
    "    selected_id = n_diff_args.idxmax()\n",
    "    fct_to_test.append(fcts_unique_args.iloc[selected_id]['fct_name'])\n",
    "\n",
    "    selected = fcts_unique_args.iloc[selected_id]['arg_type']\n",
    "    fcts_unique_args['arg_type'] = fcts_unique_args['arg_type'].apply(lambda x: x - selected)\n",
    "    types_to_test = types_to_test - selected\n",
    "\n",
    "print(fct_to_test)"
   ]
  }
 ],
 "metadata": {
  "kernelspec": {
   "display_name": "Python 3",
   "language": "python",
   "name": "python3"
  },
  "language_info": {
   "codemirror_mode": {
    "name": "ipython",
    "version": 3
   },
   "file_extension": ".py",
   "mimetype": "text/x-python",
   "name": "python",
   "nbconvert_exporter": "python",
   "pygments_lexer": "ipython3",
   "version": "3.10.6"
  },
  "orig_nbformat": 4
 },
 "nbformat": 4,
 "nbformat_minor": 2
}
