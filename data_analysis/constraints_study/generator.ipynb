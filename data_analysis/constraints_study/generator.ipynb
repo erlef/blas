{
 "cells": [
  {
   "cell_type": "markdown",
   "metadata": {},
   "source": [
    "#### Extract the function types."
   ]
  },
  {
   "cell_type": "code",
   "execution_count": 55,
   "metadata": {},
   "outputs": [],
   "source": [
    "\n",
    "### DB loader\n",
    "import pandas as pd\n",
    "\n",
    "def extractor(x):\n",
    "    mat_types = [s.lower() for s in [\n",
    "    \"BD\",\n",
    "    \"DI\",\n",
    "    \"GB\",\n",
    "    \"GE\",\n",
    "    \"GG\",\n",
    "    \"GT\",\n",
    "    \"HB\",\n",
    "    \"HE\",\n",
    "    \"HG\",\n",
    "    \"HP\",\n",
    "    \"HS\",\n",
    "    \"OP\",\n",
    "    \"OR\",\n",
    "    \"PB\",\n",
    "    \"PO\",\n",
    "    \"PP\",\n",
    "    \"PT\",\n",
    "    \"SB\",\n",
    "    \"SP\",\n",
    "    \"ST\",\n",
    "    \"SY\",\n",
    "    \"TB\",\n",
    "    \"TG\",\n",
    "    \"TP\",\n",
    "    \"TR\",\n",
    "    \"TZ\",\n",
    "    \"UN\",\n",
    "    \"UP\"\n",
    "    ]\n",
    "]\n",
    "\n",
    "    x = x[0][1:3]\n",
    "    for m in mat_types:\n",
    "        if m == x:\n",
    "            return m\n",
    "    \n",
    "    return \"\"\n",
    "\n",
    "names       = pd.DataFrame(pd.read_csv(\"../lapacke_backend/total.csv\", index_col=0)[\"e_name\"].unique())\n",
    "fct_types   = pd.concat([names, names.apply(extractor, axis=1, result_type='expand')], axis=1)\n",
    "fct_types.to_csv(\"fct_types.csv\")"
   ]
  },
  {
   "cell_type": "markdown",
   "metadata": {},
   "source": [
    "#### Extract arrays names/types"
   ]
  },
  {
   "cell_type": "code",
   "execution_count": null,
   "metadata": {},
   "outputs": [],
   "source": []
  }
 ],
 "metadata": {
  "kernelspec": {
   "display_name": "Python 3",
   "language": "python",
   "name": "python3"
  },
  "language_info": {
   "codemirror_mode": {
    "name": "ipython",
    "version": 3
   },
   "file_extension": ".py",
   "mimetype": "text/x-python",
   "name": "python",
   "nbconvert_exporter": "python",
   "pygments_lexer": "ipython3",
   "version": "3.10.6"
  },
  "orig_nbformat": 4
 },
 "nbformat": 4,
 "nbformat_minor": 2
}
